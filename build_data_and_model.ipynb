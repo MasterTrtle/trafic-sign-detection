{
 "cells": [
  {
   "metadata": {
    "ExecuteTime": {
     "end_time": "2024-06-10T22:54:27.516195Z",
     "start_time": "2024-06-10T22:54:27.470186Z"
    }
   },
   "cell_type": "code",
   "source": [
    "%reload_ext autoreload\n",
    "%load_ext autoreload\n",
    "%autoreload 2"
   ],
   "id": "a4d826272249ca68",
   "outputs": [
    {
     "name": "stdout",
     "output_type": "stream",
     "text": [
      "The autoreload extension is already loaded. To reload it, use:\n",
      "  %reload_ext autoreload\n"
     ]
    }
   ],
   "execution_count": 1
  },
  {
   "metadata": {
    "ExecuteTime": {
     "end_time": "2024-06-10T22:54:29.589518Z",
     "start_time": "2024-06-10T22:54:27.519656Z"
    }
   },
   "cell_type": "code",
   "source": [
    "from src.train import train\n",
    "from src.augment import ImageBatchProcessor\n",
    "from src.crop import crop_images_from_folder\n",
    "from src.model import model\n",
    "from src.dataset import dataset\n",
    "seed = 42\n",
    "image_folder = 'dataset2/train/images/'\n",
    "label_folder = 'dataset2/train/labels/'\n",
    "target_image_folder = 'dataset2/train/images_aug/'\n",
    "target_label_folder = 'dataset2/train/labels_aug/'"
   ],
   "id": "5c87a47421572740",
   "outputs": [],
   "execution_count": 2
  },
  {
   "metadata": {
    "jupyter": {
     "is_executing": true
    }
   },
   "cell_type": "code",
   "source": [
    "processor = ImageBatchProcessor(image_folder, label_folder, target_image_folder, target_label_folder)\n",
    "processor.augment_and_save(nb_augmentation=3)"
   ],
   "id": "initial_id",
   "outputs": [],
   "execution_count": null
  },
  {
   "metadata": {
    "jupyter": {
     "is_executing": true
    }
   },
   "cell_type": "code",
   "source": [
    "crop_images_from_folder(target_image_folder, target_label_folder, 'dataset2/train/aug_cropped_images/')\n",
    "crop_images_from_folder(image_folder, label_folder, 'dataset2/train/cropped_images/')\n",
    "val_path = 'dataset2/val/images/'\n",
    "val_label_path = 'dataset2/val/labels/'\n",
    "crop_images_from_folder(val_path, val_label_path, 'dataset2/val/cropped_images/')"
   ],
   "id": "9e588e9882a39318",
   "outputs": [],
   "execution_count": null
  },
  {
   "metadata": {
    "ExecuteTime": {
     "end_time": "2024-06-10T22:54:50.231754Z",
     "start_time": "2024-06-10T22:54:32.196885Z"
    }
   },
   "cell_type": "code",
   "source": [
    "val_path = 'dataset2/val/cropped_images/'\n",
    "aug_train_path = 'dataset2/train/aug_cropped_images/'\n",
    "train_path = 'dataset2/train/cropped_images/'\n",
    "standard_size = (32, 32)\n",
    "label_size_factor = -1\n",
    "train_data = dataset(img_dir=train_path, augment_path=aug_train_path, label_size_factor=label_size_factor, standard_size=standard_size)\n",
    "val_data = dataset(val_path, train=False, standard_size=standard_size)\n"
   ],
   "id": "26ba10c3a21b9e17",
   "outputs": [
    {
     "name": "stdout",
     "output_type": "stream",
     "text": [
      "Augmenting label ceder with -498 images\n",
      "Augmenting label interdiction with -730 images\n",
      "Augmenting label frouge with -455 images\n",
      "Augmenting label fvert with -474 images\n",
      "Augmenting label obligation with -473 images\n",
      "Augmenting label none with -412 images\n",
      "Augmenting label danger with -527 images\n",
      "Augmenting label forange with -432 images\n",
      "Augmenting label stop with -465 images\n"
     ]
    },
    {
     "name": "stderr",
     "output_type": "stream",
     "text": [
      "Preprocessing images: 100%|██████████| 1181/1181 [00:11<00:00, 99.22it/s] \n"
     ]
    },
    {
     "name": "stdout",
     "output_type": "stream",
     "text": [
      "Total loading time: 16.39 seconds\n"
     ]
    },
    {
     "name": "stderr",
     "output_type": "stream",
     "text": [
      "Preprocessing images: 100%|██████████| 135/135 [00:01<00:00, 113.82it/s]"
     ]
    },
    {
     "name": "stdout",
     "output_type": "stream",
     "text": [
      "Total loading time: 1.62 seconds\n"
     ]
    },
    {
     "name": "stderr",
     "output_type": "stream",
     "text": [
      "\n"
     ]
    }
   ],
   "execution_count": 3
  },
  {
   "metadata": {
    "ExecuteTime": {
     "end_time": "2024-06-10T22:54:50.259117Z",
     "start_time": "2024-06-10T22:54:50.234178Z"
    }
   },
   "cell_type": "code",
   "source": [
    "label_count = {}\n",
    "for x in train_data.images:\n",
    "    label = x.label\n",
    "    if label in label_count.keys():\n",
    "        label_count[label] +=1\n",
    "    else:\n",
    "        label_count[label] =1\n",
    "label_count   "
   ],
   "id": "a425a401a754b79c",
   "outputs": [
    {
     "data": {
      "text/plain": [
       "{'ceder': 133,\n",
       " 'interdiction': 365,\n",
       " 'frouge': 90,\n",
       " 'fvert': 109,\n",
       " 'obligation': 108,\n",
       " 'none': 47,\n",
       " 'danger': 162,\n",
       " 'forange': 67,\n",
       " 'stop': 100}"
      ]
     },
     "execution_count": 4,
     "metadata": {},
     "output_type": "execute_result"
    }
   ],
   "execution_count": 4
  },
  {
   "metadata": {
    "jupyter": {
     "is_executing": true
    },
    "ExecuteTime": {
     "start_time": "2024-06-10T23:11:19.198307Z"
    }
   },
   "cell_type": "code",
   "source": [
    "max_iter = 10000\n",
    "# initialize the model\n",
    "my_model = model(seed)\n",
    "#my_model.train_lr(train_data, verbose=1, max_iter=max_iter)\n",
    "#my_model.grid_search_svm(train_data, verbose=2, max_iter=max_iter)\n",
    "my_model.train_svm(train_data, verbose=1, max_iter=max_iter)\n",
    "#my_model.train_OneVsRest(train_data, verbose=1, max_iter=max_iter)\n",
    "#my_model.plot_learning_curve(train_data, verbose=1)\n",
    "print(f\"Model trained with {my_model.name} with seed {seed},max_iter {max_iter}, standard_size {standard_size}, label_size_factor {label_size_factor}\")\n",
    "# evaluate the model\n",
    "accuracy = my_model.evaluate(val_data)\n",
    "print(\"Model accuracy with Logistic Regression: {}\".format(accuracy))"
   ],
   "id": "ffb21d0d664d14b8",
   "outputs": [],
   "execution_count": null
  },
  {
   "metadata": {},
   "cell_type": "code",
   "outputs": [],
   "execution_count": null,
   "source": "#use model.predict_window(self, window) to predict a window\n",
   "id": "a41f78f7d1d37a4a"
  }
 ],
 "metadata": {
  "kernelspec": {
   "display_name": "Python 3",
   "language": "python",
   "name": "python3"
  },
  "language_info": {
   "codemirror_mode": {
    "name": "ipython",
    "version": 2
   },
   "file_extension": ".py",
   "mimetype": "text/x-python",
   "name": "python",
   "nbconvert_exporter": "python",
   "pygments_lexer": "ipython2",
   "version": "2.7.6"
  }
 },
 "nbformat": 4,
 "nbformat_minor": 5
}
